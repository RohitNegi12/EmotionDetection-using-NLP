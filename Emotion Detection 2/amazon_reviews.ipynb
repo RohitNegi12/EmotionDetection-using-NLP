{
 "cells": [
  {
   "cell_type": "markdown",
   "metadata": {},
   "source": [
    "# Importing libraries"
   ]
  },
  {
   "cell_type": "code",
   "execution_count": 4,
   "metadata": {},
   "outputs": [],
   "source": [
    "import pandas as pd\n",
    "import numpy as np\n",
    "\n",
    "# Model Related - Transformers from Hugging Face API\n",
    "from tqdm.notebook import tqdm\n",
    "from transformers import AutoTokenizer\n",
    "from transformers import AutoModelForSequenceClassification\n",
    "from scipy.special import softmax\n",
    "\n",
    "# Visualization\n",
    "import matplotlib.pyplot as plt"
   ]
  },
  {
   "cell_type": "code",
   "execution_count": 5,
   "metadata": {},
   "outputs": [],
   "source": [
    "df = pd.read_csv('data/Reviews.csv')"
   ]
  },
  {
   "cell_type": "code",
   "execution_count": 6,
   "metadata": {},
   "outputs": [
    {
     "name": "stdout",
     "output_type": "stream",
     "text": [
      "Shape: (568454, 10)\n",
      "Index(['Id', 'ProductId', 'UserId', 'ProfileName', 'HelpfulnessNumerator',\n",
      "       'HelpfulnessDenominator', 'Score', 'Time', 'Summary', 'Text'],\n",
      "      dtype='object')\n"
     ]
    }
   ],
   "source": [
    "print(\"Shape:\", df.shape)\n",
    "print(df.columns)"
   ]
  },
  {
   "cell_type": "code",
   "execution_count": 7,
   "metadata": {},
   "outputs": [
    {
     "name": "stdout",
     "output_type": "stream",
     "text": [
      "Index(['Id', 'ProductId', 'Score', 'Text'], dtype='object')\n"
     ]
    }
   ],
   "source": [
    "# Removing unnecessary columns\n",
    "df.drop(['UserId', 'ProfileName', 'HelpfulnessNumerator', 'HelpfulnessDenominator', 'Time', 'Summary'], axis=1, inplace=True)\n",
    "print(df.columns)"
   ]
  },
  {
   "cell_type": "code",
   "execution_count": 8,
   "metadata": {},
   "outputs": [
    {
     "data": {
      "text/plain": [
       "74258"
      ]
     },
     "execution_count": 8,
     "metadata": {},
     "output_type": "execute_result"
    }
   ],
   "source": [
    "# Get unique products - 74,258\n",
    "\n",
    "product_list = df['ProductId'].unique()\n",
    "len(product_list)"
   ]
  },
  {
   "cell_type": "code",
   "execution_count": 9,
   "metadata": {},
   "outputs": [
    {
     "data": {
      "text/plain": [
       "B007JFMH8M    913\n",
       "B0026RQTGE    632\n",
       "B002QWHJOU    632\n",
       "B002QWP89S    632\n",
       "B002QWP8H0    632\n",
       "             ... \n",
       "B004DSPTTM      1\n",
       "B008C9QWU8      1\n",
       "B007O5A6BM      1\n",
       "B003Q4TZ08      1\n",
       "B001LR2CU2      1\n",
       "Name: ProductId, Length: 74258, dtype: int64"
      ]
     },
     "execution_count": 9,
     "metadata": {},
     "output_type": "execute_result"
    }
   ],
   "source": [
    "df['ProductId'].value_counts()\n",
    "# Most reviewd product = B007JFMH8M"
   ]
  },
  {
   "cell_type": "markdown",
   "metadata": {},
   "source": [
    "# EDA"
   ]
  },
  {
   "cell_type": "code",
   "execution_count": 10,
   "metadata": {},
   "outputs": [
    {
     "data": {
      "text/html": [
       "<div>\n",
       "<style scoped>\n",
       "    .dataframe tbody tr th:only-of-type {\n",
       "        vertical-align: middle;\n",
       "    }\n",
       "\n",
       "    .dataframe tbody tr th {\n",
       "        vertical-align: top;\n",
       "    }\n",
       "\n",
       "    .dataframe thead th {\n",
       "        text-align: right;\n",
       "    }\n",
       "</style>\n",
       "<table border=\"1\" class=\"dataframe\">\n",
       "  <thead>\n",
       "    <tr style=\"text-align: right;\">\n",
       "      <th></th>\n",
       "      <th>Id</th>\n",
       "      <th>ProductId</th>\n",
       "      <th>Score</th>\n",
       "      <th>Text</th>\n",
       "    </tr>\n",
       "  </thead>\n",
       "  <tbody>\n",
       "    <tr>\n",
       "      <th>0</th>\n",
       "      <td>562971</td>\n",
       "      <td>B007JFMH8M</td>\n",
       "      <td>5</td>\n",
       "      <td>I love these cookies!  Not only are they healt...</td>\n",
       "    </tr>\n",
       "    <tr>\n",
       "      <th>1</th>\n",
       "      <td>562972</td>\n",
       "      <td>B007JFMH8M</td>\n",
       "      <td>5</td>\n",
       "      <td>Quaker Soft Baked Oatmeal Cookies with raisins...</td>\n",
       "    </tr>\n",
       "    <tr>\n",
       "      <th>2</th>\n",
       "      <td>562973</td>\n",
       "      <td>B007JFMH8M</td>\n",
       "      <td>5</td>\n",
       "      <td>I am usually not a huge fan of oatmeal cookies...</td>\n",
       "    </tr>\n",
       "    <tr>\n",
       "      <th>3</th>\n",
       "      <td>562974</td>\n",
       "      <td>B007JFMH8M</td>\n",
       "      <td>5</td>\n",
       "      <td>I participated in a product review that includ...</td>\n",
       "    </tr>\n",
       "    <tr>\n",
       "      <th>4</th>\n",
       "      <td>562975</td>\n",
       "      <td>B007JFMH8M</td>\n",
       "      <td>5</td>\n",
       "      <td>My kids loved these. I was very pleased to giv...</td>\n",
       "    </tr>\n",
       "  </tbody>\n",
       "</table>\n",
       "</div>"
      ],
      "text/plain": [
       "       Id   ProductId  Score  \\\n",
       "0  562971  B007JFMH8M      5   \n",
       "1  562972  B007JFMH8M      5   \n",
       "2  562973  B007JFMH8M      5   \n",
       "3  562974  B007JFMH8M      5   \n",
       "4  562975  B007JFMH8M      5   \n",
       "\n",
       "                                                Text  \n",
       "0  I love these cookies!  Not only are they healt...  \n",
       "1  Quaker Soft Baked Oatmeal Cookies with raisins...  \n",
       "2  I am usually not a huge fan of oatmeal cookies...  \n",
       "3  I participated in a product review that includ...  \n",
       "4  My kids loved these. I was very pleased to giv...  "
      ]
     },
     "execution_count": 10,
     "metadata": {},
     "output_type": "execute_result"
    }
   ],
   "source": [
    "# Data Frame of most reviewed product\n",
    "\n",
    "prod_1 = df.loc[df['ProductId'] == 'B007JFMH8M'].reset_index(drop=True)\n",
    "prod_1.head()"
   ]
  },
  {
   "cell_type": "code",
   "execution_count": 11,
   "metadata": {},
   "outputs": [],
   "source": [
    "# Pretrained Model\n",
    "\n",
    "MODEL = f\"cardiffnlp/twitter-roberta-base-sentiment\"\n",
    "tokenizer = AutoTokenizer.from_pretrained(MODEL)\n",
    "model = AutoModelForSequenceClassification.from_pretrained(MODEL)"
   ]
  },
  {
   "cell_type": "markdown",
   "metadata": {},
   "source": [
    "## Text Preprocessing"
   ]
  },
  {
   "cell_type": "code",
   "execution_count": 12,
   "metadata": {},
   "outputs": [],
   "source": [
    "def preprocess(text: str) -> str:\n",
    "    new_text = []\n",
    "\n",
    "    for t in text.split(\" \"):\n",
    "        t = '@user' if t.startswith('@') and len(t) > 1 else t\n",
    "        t = 'http' if t.startswith('http') else t\n",
    "        new_text.append(t)\n",
    "    return \" \".join(new_text)"
   ]
  },
  {
   "cell_type": "markdown",
   "metadata": {},
   "source": [
    "## Analysis Function"
   ]
  },
  {
   "cell_type": "code",
   "execution_count": 13,
   "metadata": {},
   "outputs": [
    {
     "data": {
      "text/html": [
       "<div>\n",
       "<style scoped>\n",
       "    .dataframe tbody tr th:only-of-type {\n",
       "        vertical-align: middle;\n",
       "    }\n",
       "\n",
       "    .dataframe tbody tr th {\n",
       "        vertical-align: top;\n",
       "    }\n",
       "\n",
       "    .dataframe thead th {\n",
       "        text-align: right;\n",
       "    }\n",
       "</style>\n",
       "<table border=\"1\" class=\"dataframe\">\n",
       "  <thead>\n",
       "    <tr style=\"text-align: right;\">\n",
       "      <th></th>\n",
       "      <th>roberta_neg</th>\n",
       "      <th>roberta_neu</th>\n",
       "      <th>roberta_pos</th>\n",
       "    </tr>\n",
       "  </thead>\n",
       "  <tbody>\n",
       "    <tr>\n",
       "      <th>0</th>\n",
       "      <td>0.001569</td>\n",
       "      <td>0.006234</td>\n",
       "      <td>0.992197</td>\n",
       "    </tr>\n",
       "    <tr>\n",
       "      <th>1</th>\n",
       "      <td>0.001055</td>\n",
       "      <td>0.018822</td>\n",
       "      <td>0.980123</td>\n",
       "    </tr>\n",
       "    <tr>\n",
       "      <th>2</th>\n",
       "      <td>0.002012</td>\n",
       "      <td>0.011959</td>\n",
       "      <td>0.986029</td>\n",
       "    </tr>\n",
       "    <tr>\n",
       "      <th>3</th>\n",
       "      <td>0.030037</td>\n",
       "      <td>0.876413</td>\n",
       "      <td>0.093550</td>\n",
       "    </tr>\n",
       "    <tr>\n",
       "      <th>4</th>\n",
       "      <td>0.001159</td>\n",
       "      <td>0.007344</td>\n",
       "      <td>0.991497</td>\n",
       "    </tr>\n",
       "    <tr>\n",
       "      <th>5</th>\n",
       "      <td>0.001197</td>\n",
       "      <td>0.007010</td>\n",
       "      <td>0.991793</td>\n",
       "    </tr>\n",
       "    <tr>\n",
       "      <th>6</th>\n",
       "      <td>0.009592</td>\n",
       "      <td>0.154376</td>\n",
       "      <td>0.836032</td>\n",
       "    </tr>\n",
       "    <tr>\n",
       "      <th>7</th>\n",
       "      <td>0.003304</td>\n",
       "      <td>0.018436</td>\n",
       "      <td>0.978260</td>\n",
       "    </tr>\n",
       "    <tr>\n",
       "      <th>8</th>\n",
       "      <td>0.004561</td>\n",
       "      <td>0.458991</td>\n",
       "      <td>0.536449</td>\n",
       "    </tr>\n",
       "    <tr>\n",
       "      <th>9</th>\n",
       "      <td>0.001673</td>\n",
       "      <td>0.009471</td>\n",
       "      <td>0.988856</td>\n",
       "    </tr>\n",
       "    <tr>\n",
       "      <th>10</th>\n",
       "      <td>0.001250</td>\n",
       "      <td>0.007964</td>\n",
       "      <td>0.990787</td>\n",
       "    </tr>\n",
       "    <tr>\n",
       "      <th>11</th>\n",
       "      <td>0.001954</td>\n",
       "      <td>0.005161</td>\n",
       "      <td>0.992885</td>\n",
       "    </tr>\n",
       "    <tr>\n",
       "      <th>12</th>\n",
       "      <td>0.086915</td>\n",
       "      <td>0.498042</td>\n",
       "      <td>0.415043</td>\n",
       "    </tr>\n",
       "    <tr>\n",
       "      <th>13</th>\n",
       "      <td>0.002618</td>\n",
       "      <td>0.007750</td>\n",
       "      <td>0.989632</td>\n",
       "    </tr>\n",
       "    <tr>\n",
       "      <th>14</th>\n",
       "      <td>0.001363</td>\n",
       "      <td>0.006439</td>\n",
       "      <td>0.992197</td>\n",
       "    </tr>\n",
       "    <tr>\n",
       "      <th>15</th>\n",
       "      <td>0.001620</td>\n",
       "      <td>0.035412</td>\n",
       "      <td>0.962969</td>\n",
       "    </tr>\n",
       "    <tr>\n",
       "      <th>16</th>\n",
       "      <td>0.001141</td>\n",
       "      <td>0.012342</td>\n",
       "      <td>0.986517</td>\n",
       "    </tr>\n",
       "    <tr>\n",
       "      <th>17</th>\n",
       "      <td>0.001178</td>\n",
       "      <td>0.007749</td>\n",
       "      <td>0.991073</td>\n",
       "    </tr>\n",
       "    <tr>\n",
       "      <th>18</th>\n",
       "      <td>0.001236</td>\n",
       "      <td>0.006870</td>\n",
       "      <td>0.991894</td>\n",
       "    </tr>\n",
       "    <tr>\n",
       "      <th>19</th>\n",
       "      <td>0.050721</td>\n",
       "      <td>0.265809</td>\n",
       "      <td>0.683470</td>\n",
       "    </tr>\n",
       "  </tbody>\n",
       "</table>\n",
       "</div>"
      ],
      "text/plain": [
       "    roberta_neg  roberta_neu  roberta_pos\n",
       "0      0.001569     0.006234     0.992197\n",
       "1      0.001055     0.018822     0.980123\n",
       "2      0.002012     0.011959     0.986029\n",
       "3      0.030037     0.876413     0.093550\n",
       "4      0.001159     0.007344     0.991497\n",
       "5      0.001197     0.007010     0.991793\n",
       "6      0.009592     0.154376     0.836032\n",
       "7      0.003304     0.018436     0.978260\n",
       "8      0.004561     0.458991     0.536449\n",
       "9      0.001673     0.009471     0.988856\n",
       "10     0.001250     0.007964     0.990787\n",
       "11     0.001954     0.005161     0.992885\n",
       "12     0.086915     0.498042     0.415043\n",
       "13     0.002618     0.007750     0.989632\n",
       "14     0.001363     0.006439     0.992197\n",
       "15     0.001620     0.035412     0.962969\n",
       "16     0.001141     0.012342     0.986517\n",
       "17     0.001178     0.007749     0.991073\n",
       "18     0.001236     0.006870     0.991894\n",
       "19     0.050721     0.265809     0.683470"
      ]
     },
     "execution_count": 13,
     "metadata": {},
     "output_type": "execute_result"
    }
   ],
   "source": [
    "# Function for Roberta Model\n",
    "def roberta_analyze(sentence: str) -> dict:\n",
    "    processed_sentence = preprocess(sentence)\n",
    "    encoded_text = tokenizer(processed_sentence, return_tensors='pt', truncation=True, max_length=50)\n",
    "    output = model(**encoded_text)\n",
    "    scores = output[0][0].detach().numpy()\n",
    "    scores = softmax(scores)\n",
    "    scores_dict = {\n",
    "        'roberta_neg' : scores[0],\n",
    "        'roberta_neu' : scores[1],\n",
    "        'roberta_pos' : scores[2]\n",
    "    }\n",
    "    return scores_dict\n",
    "\n",
    "scores = list()\n",
    "texts = prod_1['Text']\n",
    "for row in texts:\n",
    "    scores_dict = roberta_analyze(row)\n",
    "    scores.append(scores_dict)\n",
    "\n",
    "scores = pd.DataFrame(scores)\n",
    "scores.head(20)"
   ]
  },
  {
   "cell_type": "code",
   "execution_count": 14,
   "metadata": {},
   "outputs": [],
   "source": [
    "prod_1 = prod_1.join(scores)"
   ]
  },
  {
   "cell_type": "code",
   "execution_count": 15,
   "metadata": {},
   "outputs": [
    {
     "data": {
      "text/html": [
       "<div>\n",
       "<style scoped>\n",
       "    .dataframe tbody tr th:only-of-type {\n",
       "        vertical-align: middle;\n",
       "    }\n",
       "\n",
       "    .dataframe tbody tr th {\n",
       "        vertical-align: top;\n",
       "    }\n",
       "\n",
       "    .dataframe thead th {\n",
       "        text-align: right;\n",
       "    }\n",
       "</style>\n",
       "<table border=\"1\" class=\"dataframe\">\n",
       "  <thead>\n",
       "    <tr style=\"text-align: right;\">\n",
       "      <th></th>\n",
       "      <th>Id</th>\n",
       "      <th>ProductId</th>\n",
       "      <th>Score</th>\n",
       "      <th>Text</th>\n",
       "      <th>roberta_neg</th>\n",
       "      <th>roberta_neu</th>\n",
       "      <th>roberta_pos</th>\n",
       "    </tr>\n",
       "  </thead>\n",
       "  <tbody>\n",
       "    <tr>\n",
       "      <th>0</th>\n",
       "      <td>563627</td>\n",
       "      <td>B007JFMH8M</td>\n",
       "      <td>1</td>\n",
       "      <td>I tried one: gave it two bites (to be sure) an...</td>\n",
       "      <td>0.176097</td>\n",
       "      <td>0.277575</td>\n",
       "      <td>0.546328</td>\n",
       "    </tr>\n",
       "    <tr>\n",
       "      <th>1</th>\n",
       "      <td>563846</td>\n",
       "      <td>B007JFMH8M</td>\n",
       "      <td>1</td>\n",
       "      <td>The Quaker Soft Baked Oatmeal Cookie, Raisins ...</td>\n",
       "      <td>0.135749</td>\n",
       "      <td>0.326584</td>\n",
       "      <td>0.537668</td>\n",
       "    </tr>\n",
       "    <tr>\n",
       "      <th>2</th>\n",
       "      <td>563872</td>\n",
       "      <td>B007JFMH8M</td>\n",
       "      <td>1</td>\n",
       "      <td>My kids or I didn't care for it much, they tos...</td>\n",
       "      <td>0.887839</td>\n",
       "      <td>0.103565</td>\n",
       "      <td>0.008596</td>\n",
       "    </tr>\n",
       "    <tr>\n",
       "      <th>3</th>\n",
       "      <td>563873</td>\n",
       "      <td>B007JFMH8M</td>\n",
       "      <td>1</td>\n",
       "      <td>If I could give it zero stars I would......hor...</td>\n",
       "      <td>0.924334</td>\n",
       "      <td>0.066396</td>\n",
       "      <td>0.009270</td>\n",
       "    </tr>\n",
       "  </tbody>\n",
       "</table>\n",
       "</div>"
      ],
      "text/plain": [
       "       Id   ProductId  Score  \\\n",
       "0  563627  B007JFMH8M      1   \n",
       "1  563846  B007JFMH8M      1   \n",
       "2  563872  B007JFMH8M      1   \n",
       "3  563873  B007JFMH8M      1   \n",
       "\n",
       "                                                Text  roberta_neg  \\\n",
       "0  I tried one: gave it two bites (to be sure) an...     0.176097   \n",
       "1  The Quaker Soft Baked Oatmeal Cookie, Raisins ...     0.135749   \n",
       "2  My kids or I didn't care for it much, they tos...     0.887839   \n",
       "3  If I could give it zero stars I would......hor...     0.924334   \n",
       "\n",
       "   roberta_neu  roberta_pos  \n",
       "0     0.277575     0.546328  \n",
       "1     0.326584     0.537668  \n",
       "2     0.103565     0.008596  \n",
       "3     0.066396     0.009270  "
      ]
     },
     "execution_count": 15,
     "metadata": {},
     "output_type": "execute_result"
    }
   ],
   "source": [
    "temp = prod_1[prod_1['Score'] == 1]\n",
    "temp = temp.reset_index(drop=True)\n",
    "temp"
   ]
  },
  {
   "cell_type": "code",
   "execution_count": 16,
   "metadata": {},
   "outputs": [
    {
     "data": {
      "text/html": [
       "<div>\n",
       "<style scoped>\n",
       "    .dataframe tbody tr th:only-of-type {\n",
       "        vertical-align: middle;\n",
       "    }\n",
       "\n",
       "    .dataframe tbody tr th {\n",
       "        vertical-align: top;\n",
       "    }\n",
       "\n",
       "    .dataframe thead th {\n",
       "        text-align: right;\n",
       "    }\n",
       "</style>\n",
       "<table border=\"1\" class=\"dataframe\">\n",
       "  <thead>\n",
       "    <tr style=\"text-align: right;\">\n",
       "      <th></th>\n",
       "      <th>Id</th>\n",
       "      <th>Score</th>\n",
       "      <th>roberta_neg</th>\n",
       "      <th>roberta_neu</th>\n",
       "      <th>roberta_pos</th>\n",
       "    </tr>\n",
       "  </thead>\n",
       "  <tbody>\n",
       "    <tr>\n",
       "      <th>count</th>\n",
       "      <td>913.000000</td>\n",
       "      <td>913.000000</td>\n",
       "      <td>913.000000</td>\n",
       "      <td>913.000000</td>\n",
       "      <td>913.000000</td>\n",
       "    </tr>\n",
       "    <tr>\n",
       "      <th>mean</th>\n",
       "      <td>563427.000000</td>\n",
       "      <td>4.582694</td>\n",
       "      <td>0.038871</td>\n",
       "      <td>0.066221</td>\n",
       "      <td>0.894909</td>\n",
       "    </tr>\n",
       "    <tr>\n",
       "      <th>std</th>\n",
       "      <td>263.704696</td>\n",
       "      <td>0.705560</td>\n",
       "      <td>0.136333</td>\n",
       "      <td>0.131957</td>\n",
       "      <td>0.226885</td>\n",
       "    </tr>\n",
       "    <tr>\n",
       "      <th>min</th>\n",
       "      <td>562971.000000</td>\n",
       "      <td>1.000000</td>\n",
       "      <td>0.000874</td>\n",
       "      <td>0.004518</td>\n",
       "      <td>0.003460</td>\n",
       "    </tr>\n",
       "    <tr>\n",
       "      <th>25%</th>\n",
       "      <td>563199.000000</td>\n",
       "      <td>4.000000</td>\n",
       "      <td>0.001389</td>\n",
       "      <td>0.007902</td>\n",
       "      <td>0.953985</td>\n",
       "    </tr>\n",
       "    <tr>\n",
       "      <th>50%</th>\n",
       "      <td>563427.000000</td>\n",
       "      <td>5.000000</td>\n",
       "      <td>0.001876</td>\n",
       "      <td>0.013525</td>\n",
       "      <td>0.984676</td>\n",
       "    </tr>\n",
       "    <tr>\n",
       "      <th>75%</th>\n",
       "      <td>563655.000000</td>\n",
       "      <td>5.000000</td>\n",
       "      <td>0.004583</td>\n",
       "      <td>0.040985</td>\n",
       "      <td>0.990555</td>\n",
       "    </tr>\n",
       "    <tr>\n",
       "      <th>max</th>\n",
       "      <td>563883.000000</td>\n",
       "      <td>5.000000</td>\n",
       "      <td>0.962296</td>\n",
       "      <td>0.876413</td>\n",
       "      <td>0.993642</td>\n",
       "    </tr>\n",
       "  </tbody>\n",
       "</table>\n",
       "</div>"
      ],
      "text/plain": [
       "                  Id       Score  roberta_neg  roberta_neu  roberta_pos\n",
       "count     913.000000  913.000000   913.000000   913.000000   913.000000\n",
       "mean   563427.000000    4.582694     0.038871     0.066221     0.894909\n",
       "std       263.704696    0.705560     0.136333     0.131957     0.226885\n",
       "min    562971.000000    1.000000     0.000874     0.004518     0.003460\n",
       "25%    563199.000000    4.000000     0.001389     0.007902     0.953985\n",
       "50%    563427.000000    5.000000     0.001876     0.013525     0.984676\n",
       "75%    563655.000000    5.000000     0.004583     0.040985     0.990555\n",
       "max    563883.000000    5.000000     0.962296     0.876413     0.993642"
      ]
     },
     "execution_count": 16,
     "metadata": {},
     "output_type": "execute_result"
    }
   ],
   "source": [
    "prod_1.describe()"
   ]
  },
  {
   "cell_type": "markdown",
   "metadata": {},
   "source": [
    "# Visualization"
   ]
  },
  {
   "cell_type": "code",
   "execution_count": 23,
   "metadata": {},
   "outputs": [
    {
     "data": {
      "text/plain": [
       "(-1.0999999971630168,\n",
       " 1.0999999998649055,\n",
       " -1.0999997498470235,\n",
       " 1.09999976946331)"
      ]
     },
     "execution_count": 23,
     "metadata": {},
     "output_type": "execute_result"
    },
    {
     "data": {
      "image/png": "[encoded data removed]",
      "text/plain": [
       "<Figure size 640x480 with 1 Axes>"
      ]
     },
     "metadata": {},
     "output_type": "display_data"
    }
   ],
   "source": [
    "labels = ('Negative', 'Neutral', 'Positive')\n",
    "test = prod_1[[\"roberta_neg\", \"roberta_neu\", \"roberta_pos\"]].mean() # Pandas Series\n",
    "avg_sentiments = [i for i in test]\n",
    "\n",
    "# Pie Chart\n",
    "fig1, ax1 = plt.subplots()\n",
    "ax1.pie(avg_sentiments, labels=labels)\n",
    "ax1.axis('equal')"
   ]
  }
 ],
 "metadata": {
  "kernelspec": {
   "display_name": "Python 3",
   "language": "python",
   "name": "python3"
  },
  "language_info": {
   "codemirror_mode": {
    "name": "ipython",
    "version": 3
   },
   "file_extension": ".py",
   "mimetype": "text/x-python",
   "name": "python",
   "nbconvert_exporter": "python",
   "pygments_lexer": "ipython3",
   "version": "3.10.10"
  },
  "orig_nbformat": 4
 },
 "nbformat": 4,
 "nbformat_minor": 2
}
